{
 "cells": [
  {
   "cell_type": "code",
   "execution_count": 1,
   "id": "b37b62ba",
   "metadata": {},
   "outputs": [],
   "source": [
    "import requests\n",
    "from bs4 import BeautifulSoup\n",
    "import pandas as pd\n",
    "import re"
   ]
  },
  {
   "cell_type": "code",
   "execution_count": null,
   "id": "e469fdfe",
   "metadata": {},
   "outputs": [],
   "source": [
    "list_url=[]; # 주소를 담을 빈 리스트 객체 생성\n",
    "\n",
    "for i in range(1, 5001, 10):\n",
    "    \n",
    "    start=i # 변경해야할 파라미터 (starter)\n",
    "    search_url=\"https://search.naver.com/search.naver?where=news&sm=tab_jum&query=%EC%9E%A5%EC%95%A0%EC%9D%B8%EB%8B%A8%EC%B2%B4+%EC%8B%9C%EC%9C%84&sort=1&start=\"+str(start)\n",
    "    headers = {'User-Agent' : 'Mozilla/5.0 (Windows NT 10.0; Win64; x64) AppleWebKit/537.36 (KHTML, like Gecko) Chrome/98.0.4758.82 Safari/537.36'}\n",
    "    res  = requests.get(search_url,headers=headers)\n",
    "    cnt=1\n",
    "    \n",
    "    #reponse 객체에서 받은 텍스트 파싱 코드\n",
    "    while True:\n",
    "        try:\n",
    "            l_url=res.text.split('</span><a href=\"')[cnt].split('\" class')[0]  # 패턴을 찾아 텍스트 파싱\n",
    "            list_url.append(l_url)\n",
    "        \n",
    "        except:\n",
    "            break; # 주소가 더이상 없으면 브레이크\n",
    "        cnt= cnt+1"
   ]
  },
  {
   "cell_type": "code",
   "execution_count": null,
   "id": "56ba6ab0",
   "metadata": {},
   "outputs": [],
   "source": [
    "df = pd.DataFrame(list_url) # 리스트를 df로\n",
    "df.to_csv('./네이버뉴스주소.csv') # 파일저장"
   ]
  },
  {
   "cell_type": "code",
   "execution_count": 2,
   "id": "1ed640bb",
   "metadata": {},
   "outputs": [],
   "source": [
    "df1=pd.read_csv('./네이버뉴스주소.csv',index_col=0) # 파일 다시 불러 오기\n",
    "url_list = df1['0'].values.tolist() # df to list"
   ]
  },
  {
   "cell_type": "code",
   "execution_count": 3,
   "id": "1d508018",
   "metadata": {},
   "outputs": [],
   "source": [
    "df2=pd.DataFrame(columns=['url','title','context','comment_context','comment_nickname','comment_good','comment_bad'])"
   ]
  },
  {
   "cell_type": "code",
   "execution_count": 4,
   "id": "6edc1de2",
   "metadata": {},
   "outputs": [
    {
     "data": {
      "text/html": [
       "<div>\n",
       "<style scoped>\n",
       "    .dataframe tbody tr th:only-of-type {\n",
       "        vertical-align: middle;\n",
       "    }\n",
       "\n",
       "    .dataframe tbody tr th {\n",
       "        vertical-align: top;\n",
       "    }\n",
       "\n",
       "    .dataframe thead th {\n",
       "        text-align: right;\n",
       "    }\n",
       "</style>\n",
       "<table border=\"1\" class=\"dataframe\">\n",
       "  <thead>\n",
       "    <tr style=\"text-align: right;\">\n",
       "      <th></th>\n",
       "      <th>url</th>\n",
       "      <th>title</th>\n",
       "      <th>context</th>\n",
       "      <th>comment_context</th>\n",
       "      <th>comment_nickname</th>\n",
       "      <th>comment_good</th>\n",
       "      <th>comment_bad</th>\n",
       "    </tr>\n",
       "  </thead>\n",
       "  <tbody>\n",
       "  </tbody>\n",
       "</table>\n",
       "</div>"
      ],
      "text/plain": [
       "Empty DataFrame\n",
       "Columns: [url, title, context, comment_context, comment_nickname, comment_good, comment_bad]\n",
       "Index: []"
      ]
     },
     "execution_count": 4,
     "metadata": {},
     "output_type": "execute_result"
    }
   ],
   "source": [
    "df2"
   ]
  },
  {
   "cell_type": "code",
   "execution_count": 5,
   "id": "d7e53995",
   "metadata": {},
   "outputs": [],
   "source": [
    "rowsize=50\n",
    "search_url=\"https://search.naver.com/search.naver?where=news&sm=tab_jum&query=%EC%9E%A5%EC%95%A0%EC%9D%B8%EB%8B%A8%EC%B2%B4+%EC%8B%9C%EC%9C%84&sort=1&start=5001\"\n",
    "headers = {'User-Agent' : 'Mozilla/5.0 (Windows NT 10.0; Win64; x64) AppleWebKit/537.36 (KHTML, like Gecko) Chrome/98.0.4758.82 Safari/537.36',\"referer\": search_url}\n",
    "timeout = 5\n",
    "\n",
    "for i in range(0,len(url_list)):\n",
    "    try:\n",
    "        start=1\n",
    "        page=1\n",
    "        \n",
    "        url=url_list[i]\n",
    "        \n",
    "        oid = url.split(\"oid=\")[1].split(\"&\")[0] #422\n",
    "        aid = url.split(\"aid=\")[1] #0000430957\n",
    "        res_context  = requests.get(url,headers=headers) #response 객체 가져오기\n",
    "        soup_context = BeautifulSoup(res_context.text, 'html.parser') # soup html파싱\n",
    "        article_title=soup_context.find_all(id=\"articleTitle\")[0].text # 기사 제목 \n",
    "        article_context=soup_context.find_all(id=\"articleBodyContents\")[0].text.replace('\\n','').replace(\"\\'\",\"\").replace(\"\\w\",\"\").replace(\"&nbsp\",\"\").replace(\";\",\"\").replace(\"\\t\",\"\").replace(\"\\r\",\"\").replace(\"\\b\",\"\").replace(\"\\f\",\"\").replace(\"\\v\",\"\") #기사 내용\n",
    "        tag= True\n",
    "        while (tag):\n",
    "            c_url=\"https://apis.naver.com/commentBox/cbox/web_naver_list_jsonp.json?ticket=news&templateId=view_society&pool=cbox5&_wr&_callback=jQuery112405573818535186856_1644652878711&lang=ko&country=KR&objectId=news\"+oid+\"%2C\"+aid+\"&categoryId=&pageSize=\"+str(rowsize)+\"&indexSize=10&groupId=&listType=OBJECT&pageType=more&page=\"+str(page)+\"&initialize=true&userType=&useAltSort=true&replyPageSize=20&sort=favorite&includeAllStatus=true&_=1644652878713\"\n",
    "            \n",
    "            res  = requests.get(c_url,headers=headers)\n",
    "            soup = BeautifulSoup(res.text, 'html.parser')\n",
    "            \n",
    "            comment_row =str(soup).split(',\"totalRows\":')[1].split(',\"startIndex\":')[0] # 댓글 갯수\n",
    "        \n",
    "            for row in range(start,rowsize):\n",
    "                comment_context = str(soup).split('\"contents\":')[row].split('\",\"userIdNo\":')[0] #댓글 내용\n",
    "                comment_context=re.sub(r\"[^가-힣 ]\",\"\",comment_context)\n",
    "                comment_id =str(soup).split('\"userName\":\"')[row].split('\",\"userProfileImage\"')[0] #댓글 아이디\n",
    "                comment_good =str(soup).split(',\"sympathyCount\":')[row].split(',\"antipathyCount\":')[0] #댓글 좋아요\n",
    "                comment_bad =str(soup).split(',\"antipathyCount\":')[row].split(',\"hideReplyButton\":')[0] # 댓글 싫어요\n",
    "                new_dic=dict( url = url, title = article_title, context= article_context, comment_context = comment_context,comment_nickname=comment_id,comment_good=comment_good,comment_bad=comment_bad)\n",
    "                df2=df2.append(new_dic,ignore_index=True)\n",
    "            page = page + 1\n",
    "    except:\n",
    "        pass;\n",
    "    \n",
    "df2.to_csv('./네이버_댓글.csv',encoding = 'utf-8') # 파일저장"
   ]
  }
 ],
 "metadata": {
  "kernelspec": {
   "display_name": "Python 3 (ipykernel)",
   "language": "python",
   "name": "python3"
  },
  "language_info": {
   "codemirror_mode": {
    "name": "ipython",
    "version": 3
   },
   "file_extension": ".py",
   "mimetype": "text/x-python",
   "name": "python",
   "nbconvert_exporter": "python",
   "pygments_lexer": "ipython3",
   "version": "3.9.7"
  }
 },
 "nbformat": 4,
 "nbformat_minor": 5
}
